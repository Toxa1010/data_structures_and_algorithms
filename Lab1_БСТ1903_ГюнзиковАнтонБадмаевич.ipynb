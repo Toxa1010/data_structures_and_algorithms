{
 "cells": [
  {
   "cell_type": "markdown",
   "metadata": {},
   "source": [
    "# Лабораторная работа №1"
   ]
  },
  {
   "cell_type": "markdown",
   "metadata": {},
   "source": [
    "## Выполнил студент группы БСТ1903 Гюнзиков А.Б."
   ]
  },
  {
   "cell_type": "markdown",
   "metadata": {},
   "source": [
    "### Задание №1"
   ]
  },
  {
   "cell_type": "code",
   "execution_count": 1,
   "metadata": {},
   "outputs": [
    {
     "name": "stdout",
     "output_type": "stream",
     "text": [
      "Hello World\n"
     ]
    }
   ],
   "source": [
    "print(\"Hello World\")"
   ]
  },
  {
   "cell_type": "markdown",
   "metadata": {},
   "source": [
    "### Задание №2"
   ]
  },
  {
   "cell_type": "markdown",
   "metadata": {},
   "source": [
    "Написать генератор случайных матриц(многомерных), который принимает опциональные параметры m, n, min_limit, max_limit, где m и n указывают размер матрицы, а min_lim и max_lim - минимальное и максимальное значение для генерируемого числа. По умолчанию при отсутствии параметров принимать следующие значения: m = 50 n = 50 min_limit = -250 max_limit = 1000 + (номер своего варианта)."
   ]
  },
  {
   "cell_type": "code",
   "execution_count": 3,
   "metadata": {},
   "outputs": [],
   "source": [
    "import random\n",
    "def randM(m = 50, n = 50, min_limit = -250, max_limit = 1004):\n",
    "    a = [[0] * n for i in range(m)]\n",
    "    for i in range(m):\n",
    "        for j in range(n):        \n",
    "                a[i][j] = random.randint(min_limit, max_limit)    \n",
    "    return a\n",
    "    for row in a:\n",
    "        print(' '.join([str(elem) for elem in row]))"
   ]
  },
  {
   "cell_type": "markdown",
   "metadata": {},
   "source": [
    "### Задание №3"
   ]
  },
  {
   "cell_type": "markdown",
   "metadata": {},
   "source": [
    "Реализовать методы сортировки строк числовой матрицы в соответствии с заданием. Оценить время работы каждого алгоритма сортировки и сравнить его со временем стандартной функции сортировки. Испытания проводить на сгенерированных матрицах."
   ]
  },
  {
   "cell_type": "markdown",
   "metadata": {},
   "source": [
    "#### Сортировка выбором"
   ]
  },
  {
   "cell_type": "code",
   "execution_count": 4,
   "metadata": {},
   "outputs": [
    {
     "name": "stdout",
     "output_type": "stream",
     "text": [
      "Исходная матрица\n",
      "[3, 15, 52, 48]\n",
      "[84, 10, 59, 29]\n",
      "[71, 16, 78, 42]\n",
      "[50, 65, 52, 44]\n",
      "Матрица с отсортированными строками\n",
      "[3, 15, 48, 52]\n",
      "[10, 29, 59, 84]\n",
      "[16, 42, 71, 78]\n",
      "[44, 50, 52, 65]\n",
      "Время работы: 0.0009992122650146484\n"
     ]
    }
   ],
   "source": [
    "import time\n",
    "def selSort(matrix):\n",
    "    for row in matrix:\n",
    "        for i in range(len(row)):\n",
    "            minI = i\n",
    "            for j in range(i + 1, len(row)):\n",
    "                if row[j] < row[minI]:\n",
    "                    minI = j\n",
    "            row[i], row[minI] = row[minI], row[i]\n",
    "        print(row)\n",
    "start = time.time()\n",
    "matrix = randM(4, 4, 1, 99)\n",
    "print(\"Исходная матрица\")\n",
    "for row in matrix:\n",
    "    print(row)\n",
    "print(\"Матрица с отсортированными строками\")\n",
    "selSort(matrix)\n",
    "print(\"Время работы:\", time.time() - start)"
   ]
  },
  {
   "cell_type": "markdown",
   "metadata": {},
   "source": [
    "#### Вставками"
   ]
  },
  {
   "cell_type": "code",
   "execution_count": 5,
   "metadata": {
    "scrolled": true
   },
   "outputs": [
    {
     "name": "stdout",
     "output_type": "stream",
     "text": [
      "Исходная матрица\n",
      "[59, 71, 32, 85]\n",
      "[97, 52, 72, 95]\n",
      "[81, 81, 95, 32]\n",
      "[67, 45, 79, 71]\n",
      "Матрица с отсортированными строками\n",
      "[32, 59, 71, 85]\n",
      "[52, 72, 95, 97]\n",
      "[32, 81, 81, 95]\n",
      "[45, 67, 71, 79]\n",
      "Время работы: 0.0019958019256591797\n"
     ]
    }
   ],
   "source": [
    "def inSort(matrix):  \n",
    "    for row in matrix:\n",
    "        for i in range(1, len(row)):\n",
    "            item_to_insert = row[i]\n",
    "            j = i - 1\n",
    "            while j >= 0 and row[j] > item_to_insert:\n",
    "                row[j + 1] = row[j]\n",
    "                j -= 1\n",
    "            row[j + 1] = item_to_insert\n",
    "        print(row)\n",
    "start = time.time()\n",
    "matrix = randM(4, 4, 1, 99)\n",
    "print(\"Исходная матрица\")\n",
    "for row in matrix:\n",
    "    print(row)\n",
    "print(\"Матрица с отсортированными строками\")\n",
    "inSort(matrix)\n",
    "print(\"Время работы:\", time.time() - start)"
   ]
  },
  {
   "cell_type": "markdown",
   "metadata": {},
   "source": [
    "#### Обменом"
   ]
  },
  {
   "cell_type": "code",
   "execution_count": 7,
   "metadata": {},
   "outputs": [
    {
     "name": "stdout",
     "output_type": "stream",
     "text": [
      "Исходная матрица\n",
      "[6, 24, 61, 90]\n",
      "[73, 84, 12, 9]\n",
      "[63, 9, 6, 71]\n",
      "[67, 98, 57, 97]\n",
      "Матрица с отсортированными строками\n",
      "[6, 24, 61, 90]\n",
      "[9, 12, 73, 84]\n",
      "[6, 9, 63, 71]\n",
      "[57, 67, 97, 98]\n",
      "Время работы: 0.0009970664978027344\n"
     ]
    }
   ],
   "source": [
    "import time\n",
    "def bubbleSort(matrix):  \n",
    "    for row in matrix:\n",
    "        swapped = True\n",
    "        while swapped:\n",
    "            swapped = False\n",
    "            for i in range(len(row) - 1):\n",
    "                if row[i] > row[i + 1]:\n",
    "                    row[i], row[i + 1] = row[i + 1], row[i]\n",
    "                    swapped = True\n",
    "        print(row)\n",
    "start = time.time()\n",
    "matrix = randM(4, 4, 1, 99)\n",
    "print(\"Исходная матрица\")\n",
    "for row in matrix:\n",
    "    print(row)\n",
    "print(\"Матрица с отсортированными строками\")\n",
    "bubbleSort(matrix)\n",
    "print(\"Время работы:\", time.time() - start)"
   ]
  },
  {
   "cell_type": "markdown",
   "metadata": {},
   "source": [
    "#### Шелла"
   ]
  },
  {
   "cell_type": "code",
   "execution_count": 8,
   "metadata": {},
   "outputs": [
    {
     "name": "stdout",
     "output_type": "stream",
     "text": [
      "Исходная матрица\n",
      "[64, 74, 7, 53]\n",
      "[28, 86, 73, 40]\n",
      "[29, 65, 59, 43]\n",
      "[74, 25, 2, 80]\n",
      "Матрица с отсортированными строками\n",
      "[7, 53, 64, 74]\n",
      "[28, 40, 73, 86]\n",
      "[29, 43, 59, 65]\n",
      "[2, 25, 74, 80]\n",
      "Время работы: 0.001996278762817383\n"
     ]
    }
   ],
   "source": [
    "def shellSort(matrix):\n",
    "    for row in matrix:\n",
    "        inc = len(row) // 2\n",
    "        while inc:\n",
    "            for i, el in enumerate(row):\n",
    "                while i >= inc and row[i - inc] > el:\n",
    "                    row[i] = row[i - inc]\n",
    "                    i -= inc\n",
    "                row[i] = el\n",
    "            inc = 1 if inc == 2 else int(inc * 5.0 / 11)\n",
    "        print(row)\n",
    "start = time.time()\n",
    "matrix = randM(4, 4, 1, 99)\n",
    "print(\"Исходная матрица\")\n",
    "for row in matrix:\n",
    "    print(row)\n",
    "print(\"Матрица с отсортированными строками\")\n",
    "shellSort(matrix)\n",
    "print(\"Время работы:\", time.time() - start)"
   ]
  },
  {
   "cell_type": "markdown",
   "metadata": {},
   "source": [
    "#### Турнирная"
   ]
  },
  {
   "cell_type": "code",
   "execution_count": 9,
   "metadata": {},
   "outputs": [
    {
     "name": "stdout",
     "output_type": "stream",
     "text": [
      "Исходная матрица\n",
      "[97, 77, 34, 43]\n",
      "[9, 6, 22, 12]\n",
      "[37, 38, 16, 1]\n",
      "[94, 27, 61, 19]\n",
      "Матрица с отсортированными строками\n",
      "[9, 6, 22, 12]\n",
      "[37, 38, 16, 1]\n",
      "[94, 27, 61, 19]\n",
      "[97, 77, 34, 43]\n",
      "Время работы: 0.0009911060333251953\n"
     ]
    }
   ],
   "source": [
    "import time\n",
    "def tourSort(arr):\n",
    "    tree = [None] * 2 * (len(arr) + len(arr) % 2)\n",
    "    index = len(tree) - len(arr) - len(arr) % 2\n",
    "    \n",
    "    for i, v in enumerate(arr):\n",
    "        tree[index + i] = (i, v)\n",
    "    \n",
    "    for j in range(len(arr)):\n",
    "        n = len(arr)\n",
    "        index = len(tree) - len(arr) - len(arr) % 2\n",
    "        while index > -1:\n",
    "            n = (n + 1) // 2\n",
    "            for i in range(n):\n",
    "                i = max(index + i * 2, 1) # на последней итерация index + i * 2 = 0\n",
    "                if tree[i] != None and tree[i + 1] != None:\n",
    "                    if tree[i][1] < tree[i + 1][1]:\n",
    "                        tree[i // 2] = tree[i]\n",
    "                    else:\n",
    "                        tree[i // 2] = tree[i + 1]\n",
    "                else:\n",
    "                    tree[i // 2] = tree[i] if tree[i] != None else tree[i + 1]\n",
    "            index -= n\n",
    "            \n",
    "        index, x = tree[0]\n",
    "        arr[j] = x\n",
    "        tree[len(tree) - len(arr) - len(arr) % 2 + index] = None\n",
    "        \n",
    "start = time.time()\n",
    "matrix = randM(4, 4, 1, 99)\n",
    "print(\"Исходная матрица\")\n",
    "for row in matrix:\n",
    "    print(row)\n",
    "print(\"Матрица с отсортированными строками\")\n",
    "tourSort(matrix)\n",
    "for row in matrix:\n",
    "    print(row)\n",
    "print(\"Время работы:\", time.time() - start)"
   ]
  },
  {
   "cell_type": "markdown",
   "metadata": {},
   "source": [
    "#### Быстрая"
   ]
  },
  {
   "cell_type": "code",
   "execution_count": 10,
   "metadata": {},
   "outputs": [
    {
     "name": "stdout",
     "output_type": "stream",
     "text": [
      "Исходная матрица\n",
      "[60, 43, 53, 14]\n",
      "[34, 20, 97, 18]\n",
      "[26, 86, 8, 52]\n",
      "[91, 9, 39, 26]\n",
      "Матрица с отсортированными строками\n",
      "[14, 43, 53, 60]\n",
      "[18, 20, 34, 97]\n",
      "[8, 26, 52, 86]\n",
      "[9, 26, 39, 91]\n",
      "Время работы: 0.0009989738464355469\n"
     ]
    }
   ],
   "source": [
    "import time\n",
    "def quickSort(matrix): \n",
    "    def partition(nums, low, high):     \n",
    "        pivot = nums[(low + high) // 2]\n",
    "        i = low - 1\n",
    "        j = high + 1\n",
    "        while True:\n",
    "            i += 1\n",
    "            while nums[i] < pivot:\n",
    "                i += 1\n",
    "\n",
    "            j -= 1\n",
    "            while nums[j] > pivot:\n",
    "                j -= 1\n",
    "\n",
    "            if i >= j:\n",
    "                return j\n",
    "            nums[i], nums[j] = nums[j], nums[i]\n",
    "    for row in matrix:        \n",
    "        def _quick_sort(items, low, high):\n",
    "            if low < high:                \n",
    "                split_index = partition(items, low, high)\n",
    "                _quick_sort(items, low, split_index)\n",
    "                _quick_sort(items, split_index + 1, high)\n",
    "\n",
    "        _quick_sort(row, 0, len(row) - 1)\n",
    "        print(row)\n",
    "start = time.time()\n",
    "matrix = randM(4, 4, 1, 99)\n",
    "print(\"Исходная матрица\")\n",
    "for row in matrix:\n",
    "    print(row)\n",
    "print(\"Матрица с отсортированными строками\")\n",
    "quickSort(matrix)\n",
    "print(\"Время работы:\", time.time() - start)"
   ]
  },
  {
   "cell_type": "markdown",
   "metadata": {},
   "source": [
    "#### Пирамидальная"
   ]
  },
  {
   "cell_type": "code",
   "execution_count": 11,
   "metadata": {
    "scrolled": true
   },
   "outputs": [
    {
     "name": "stdout",
     "output_type": "stream",
     "text": [
      "Исходная матрица\n",
      "[89, 35, 83, 74]\n",
      "[30, 50, 75, 86]\n",
      "[47, 7, 84, 18]\n",
      "[43, 6, 2, 53]\n",
      "Матрица с отсортированными строками\n",
      "[35, 74, 83, 89]\n",
      "[30, 50, 75, 86]\n",
      "[7, 18, 47, 84]\n",
      "[2, 6, 43, 53]\n",
      "Время работы: 0.001995086669921875\n"
     ]
    }
   ],
   "source": [
    "import time\n",
    "def heapSort(matrix):  \n",
    "    def heapify(nums, heap_size, root_index):  \n",
    "        largest = root_index\n",
    "        left_child = (2 * root_index) + 1\n",
    "        right_child = (2 * root_index) + 2\n",
    "        if left_child < heap_size and nums[left_child] > nums[largest]:\n",
    "            largest = left_child\n",
    "        if right_child < heap_size and nums[right_child] > nums[largest]:\n",
    "            largest = right_child\n",
    "        if largest != root_index:\n",
    "            nums[root_index], nums[largest] = nums[largest], nums[root_index]\n",
    "            heapify(nums, heap_size, largest)\n",
    "    for row in matrix:\n",
    "        n = len(row)\n",
    "        for i in range(n, -1, -1):\n",
    "            heapify(row, n, i)\n",
    "        for i in range(n - 1, 0, -1):\n",
    "            row[i], row[0] = row[0], row[i]\n",
    "            heapify(row, i, 0)\n",
    "        print(row)\n",
    "        \n",
    "start = time.time()\n",
    "matrix = randM(4, 4, 1, 99)\n",
    "print(\"Исходная матрица\")\n",
    "for row in matrix:\n",
    "    print(row)\n",
    "print(\"Матрица с отсортированными строками\")\n",
    "heapSort(matrix)\n",
    "print(\"Время работы:\", time.time() - start)"
   ]
  },
  {
   "cell_type": "code",
   "execution_count": 1,
   "metadata": {},
   "outputs": [],
   "source": [
    "##Вывод"
   ]
  },
  {
   "cell_type": "code",
   "execution_count": null,
   "metadata": {},
   "outputs": [],
   "source": [
    "В результате проделанной лабораторной работы мы реализовали генерацию случайной матрицы и изучили методы сортировок матрицы."
   ]
  }
 ],
 "metadata": {
  "kernelspec": {
   "display_name": "Python 3",
   "language": "python",
   "name": "python3"
  },
  "language_info": {
   "codemirror_mode": {
    "name": "ipython",
    "version": 3
   },
   "file_extension": ".py",
   "mimetype": "text/x-python",
   "name": "python",
   "nbconvert_exporter": "python",
   "pygments_lexer": "ipython3",
   "version": "3.8.5"
  }
 },
 "nbformat": 4,
 "nbformat_minor": 4
}
